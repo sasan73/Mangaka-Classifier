{
  "nbformat": 4,
  "nbformat_minor": 0,
  "metadata": {
    "colab": {
      "name": "Mangaka Classifier.ipynb",
      "provenance": [],
      "collapsed_sections": [],
      "toc_visible": true,
      "authorship_tag": "ABX9TyNr6WTKAcQDWekytxX2SuQm",
      "include_colab_link": true
    },
    "kernelspec": {
      "name": "python3",
      "display_name": "Python 3"
    },
    "accelerator": "GPU"
  },
  "cells": [
    {
      "cell_type": "markdown",
      "metadata": {
        "id": "view-in-github",
        "colab_type": "text"
      },
      "source": [
        "<a href=\"https://colab.research.google.com/github/sasan73/Mangaka-Classifier/blob/master/Mangaka_Classifier.ipynb\" target=\"_parent\"><img src=\"https://colab.research.google.com/assets/colab-badge.svg\" alt=\"Open In Colab\"/></a>"
      ]
    },
    {
      "cell_type": "markdown",
      "metadata": {
        "id": "v47ZPd4cfHwp",
        "colab_type": "text"
      },
      "source": [
        "# **Mangaka** *Classifier*\n"
      ]
    },
    {
      "cell_type": "code",
      "metadata": {
        "id": "Ldr_kY0fYkkd",
        "colab_type": "code",
        "colab": {
          "base_uri": "https://localhost:8080/",
          "height": 306
        },
        "outputId": "efa760c6-8ad0-4b2b-cd2c-9c62f7313418"
      },
      "source": [
        ""
      ],
      "execution_count": null,
      "outputs": [
        {
          "output_type": "stream",
          "text": [
            "Collecting torch==1.5\n",
            "  Using cached https://files.pythonhosted.org/packages/13/70/54e9fb010fe1547bc4774716f11ececb81ae5b306c05f090f4461ee13205/torch-1.5.0-cp36-cp36m-manylinux1_x86_64.whl\n",
            "Requirement already satisfied: torchvision==0.6.0 in /usr/local/lib/python3.6/dist-packages (0.6.0)\n",
            "Requirement already satisfied: future in /usr/local/lib/python3.6/dist-packages (from torch==1.5) (0.16.0)\n",
            "Requirement already satisfied: numpy in /usr/local/lib/python3.6/dist-packages (from torch==1.5) (1.18.5)\n",
            "Requirement already satisfied: pillow>=4.1.1 in /usr/local/lib/python3.6/dist-packages (from torchvision==0.6.0) (7.0.0)\n",
            "Installing collected packages: torch\n",
            "  Found existing installation: torch 1.5.1\n",
            "    Uninstalling torch-1.5.1:\n",
            "      Successfully uninstalled torch-1.5.1\n",
            "Successfully installed torch-1.5.0\n"
          ],
          "name": "stdout"
        },
        {
          "output_type": "display_data",
          "data": {
            "application/vnd.colab-display-data+json": {
              "pip_warning": {
                "packages": [
                  "torch"
                ]
              }
            }
          },
          "metadata": {
            "tags": []
          }
        }
      ]
    },
    {
      "cell_type": "code",
      "metadata": {
        "id": "Najt6uR5VSWb",
        "colab_type": "code",
        "colab": {
          "base_uri": "https://localhost:8080/",
          "height": 34
        },
        "outputId": "6dbcf32c-fc54-4ae1-e359-2de5b8dad538"
      },
      "source": [
        "import torch \n",
        "print(torch.__version__)"
      ],
      "execution_count": 1,
      "outputs": [
        {
          "output_type": "stream",
          "text": [
            "1.6.0+cu101\n"
          ],
          "name": "stdout"
        }
      ]
    },
    {
      "cell_type": "code",
      "metadata": {
        "id": "XZ8WvtMUYtWY",
        "colab_type": "code",
        "colab": {}
      },
      "source": [
        "%reload_ext autoreload\n",
        "%autoreload 2\n",
        "%matplotlib inline\n",
        "\n",
        "import torch\n",
        "from torchvision import datasets, transforms\n",
        "from torch.utils.data import random_split, DataLoader, Dataset\n",
        "import torch.nn.functional as F\n",
        "import torch.nn as nn\n",
        "import torch.optim as optim\n",
        "from torch.optim import lr_scheduler\n",
        "import copy\n",
        "\n",
        "from PIL import Image\n",
        "import matplotlib.pyplot as plt"
      ],
      "execution_count": 151,
      "outputs": []
    },
    {
      "cell_type": "code",
      "metadata": {
        "id": "NfU7O52gY7Fj",
        "colab_type": "code",
        "colab": {}
      },
      "source": [
        "# folder = \"Eiichiro Oda\"\n",
        "# file = \"one-piece.csv\""
      ],
      "execution_count": null,
      "outputs": []
    },
    {
      "cell_type": "code",
      "metadata": {
        "id": "ORARLNlGefXT",
        "colab_type": "code",
        "colab": {}
      },
      "source": [
        "# folder = \"Yoshihiro Togashi\"\n",
        "# file = \"hunter-x-hunter.csv\""
      ],
      "execution_count": null,
      "outputs": []
    },
    {
      "cell_type": "code",
      "metadata": {
        "id": "OaRv5p8oejYi",
        "colab_type": "code",
        "colab": {}
      },
      "source": [
        "# folder = \"Hajime Isayama\"\n",
        "# file = \"shingeki-no-kyojin.csv\""
      ],
      "execution_count": null,
      "outputs": []
    },
    {
      "cell_type": "code",
      "metadata": {
        "id": "fvu2C0N92zdp",
        "colab_type": "code",
        "colab": {}
      },
      "source": [
        "# folder = \"Koyoharu Gotouge\"\n",
        "# file = \"kimetsu-no-yaiba.csv\""
      ],
      "execution_count": null,
      "outputs": []
    },
    {
      "cell_type": "code",
      "metadata": {
        "id": "cqX8L_LA7F62",
        "colab_type": "code",
        "colab": {
          "base_uri": "https://localhost:8080/",
          "height": 34
        },
        "outputId": "e0bf7d60-bdea-4f7b-efc4-bad6e4d3bb37"
      },
      "source": [
        "from google.colab import drive\n",
        "drive.mount('/content/drive')"
      ],
      "execution_count": 62,
      "outputs": [
        {
          "output_type": "stream",
          "text": [
            "Mounted at /content/drive\n"
          ],
          "name": "stdout"
        }
      ]
    },
    {
      "cell_type": "code",
      "metadata": {
        "id": "oB9SMyhEeuqh",
        "colab_type": "code",
        "colab": {}
      },
      "source": [
        "from pathlib import Path\n",
        "path = Path('/content/drive/My Drive/Data/Mangaka Classification')"
      ],
      "execution_count": 63,
      "outputs": []
    },
    {
      "cell_type": "code",
      "metadata": {
        "id": "jT-CkpT0PKU7",
        "colab_type": "code",
        "colab": {}
      },
      "source": [
        "# dest = path/folder\n",
        "# dest.mkdir(parents=True, exist_ok=True)"
      ],
      "execution_count": null,
      "outputs": []
    },
    {
      "cell_type": "code",
      "metadata": {
        "id": "PUffrN4l7Au7",
        "colab_type": "code",
        "colab": {}
      },
      "source": [
        "# path.ls()"
      ],
      "execution_count": null,
      "outputs": []
    },
    {
      "cell_type": "code",
      "metadata": {
        "id": "_CmI6pFIiDPV",
        "colab_type": "code",
        "colab": {}
      },
      "source": [
        "# download_images??"
      ],
      "execution_count": null,
      "outputs": []
    },
    {
      "cell_type": "code",
      "metadata": {
        "id": "dDEX0YVHiHm_",
        "colab_type": "code",
        "colab": {}
      },
      "source": [
        "# download_images(Path('/content/')/file, dest)"
      ],
      "execution_count": null,
      "outputs": []
    },
    {
      "cell_type": "code",
      "metadata": {
        "id": "k2OZn59-j6xz",
        "colab_type": "code",
        "colab": {}
      },
      "source": [
        "# for c in classes:\n",
        "    # print(c)\n",
        "    # verify_images(path/c, delete=True, max_size=500)"
      ],
      "execution_count": null,
      "outputs": []
    },
    {
      "cell_type": "code",
      "metadata": {
        "id": "BeAfX8T9HJrX",
        "colab_type": "code",
        "colab": {
          "base_uri": "https://localhost:8080/",
          "height": 234
        },
        "outputId": "a627eae6-b491-4b92-a04a-cc4d800bc15f"
      },
      "source": [
        "img = Image.open('/content/drive/My Drive/Data/Mangaka Classification/Eiichiro Oda/00000056.jpg')\n",
        "plt.imshow(img)\n",
        "print(img.size)"
      ],
      "execution_count": 64,
      "outputs": [
        {
          "output_type": "stream",
          "text": [
            "(319, 158)\n"
          ],
          "name": "stdout"
        },
        {
          "output_type": "display_data",
          "data": {
            "image/png": "[encoded data removed]",
            "text/plain": [
              "<Figure size 432x288 with 1 Axes>"
            ]
          },
          "metadata": {
            "tags": [],
            "needs_background": "light"
          }
        }
      ]
    },
    {
      "cell_type": "code",
      "metadata": {
        "id": "XNDlWH4nDRKQ",
        "colab_type": "code",
        "colab": {}
      },
      "source": [
        "tfms_train = transforms.Compose([transforms.RandomResizedCrop(256),\n",
        "                                transforms.RandomHorizontalFlip(),\n",
        "                                transforms.Grayscale(), \n",
        "                                transforms.ToTensor(),\n",
        "                                transforms.Normalize(0, 1)])\n",
        "\n",
        "tfms_valid = transforms.Compose([transforms.Resize((256, 256)),\n",
        "                                 transforms.Grayscale(),\n",
        "                                 transforms.ToTensor(),\n",
        "                                 transforms.Normalize(0, 1)])"
      ],
      "execution_count": 123,
      "outputs": []
    },
    {
      "cell_type": "code",
      "metadata": {
        "id": "suym2nR0kEi8",
        "colab_type": "code",
        "colab": {}
      },
      "source": [
        "class Mydataset(Dataset):\n",
        "  def __init__(self, subset, transforms = None):\n",
        "    self.subset = subset\n",
        "    self.transforms = transforms\n",
        "  \n",
        "  def __getitem__(self, indx):\n",
        "    x, y = self.subset[indx]\n",
        "    if self.transforms:  \n",
        "      x = self.transforms(x)\n",
        "    return x, y-1\n",
        "  def __len__(self):\n",
        "    return len(self.subset)\n",
        "\n",
        "dataset = datasets.ImageFolder(path)\n",
        "\n",
        "split_len = [int(len(dataset)* .8), int(len(dataset)* .2)]\n",
        "train_sub, valid_sub = random_split(dataset, split_len)\n",
        "\n",
        "train_ds = Mydataset(train_sub, transforms = tfms_train)\n",
        "valid_ds = Mydataset(valid_sub, transforms = tfms_valid)"
      ],
      "execution_count": 124,
      "outputs": []
    },
    {
      "cell_type": "code",
      "metadata": {
        "id": "d4M8e2I8slcD",
        "colab_type": "code",
        "colab": {
          "base_uri": "https://localhost:8080/",
          "height": 34
        },
        "outputId": "6a72de21-f2e7-4d0b-8cb4-bfa70594427a"
      },
      "source": [
        "lst = []\n",
        "for i in range(len(valid_ds)):\n",
        "  lst.append(valid_ds[i][1])\n",
        "print(len(lst))"
      ],
      "execution_count": 125,
      "outputs": [
        {
          "output_type": "stream",
          "text": [
            "294\n"
          ],
          "name": "stdout"
        }
      ]
    },
    {
      "cell_type": "code",
      "metadata": {
        "id": "-oeqnM5CgGF6",
        "colab_type": "code",
        "colab": {}
      },
      "source": [
        "batch = 64"
      ],
      "execution_count": 126,
      "outputs": []
    },
    {
      "cell_type": "code",
      "metadata": {
        "id": "mNkvtxQEbk-Z",
        "colab_type": "code",
        "colab": {}
      },
      "source": [
        "train_dl = DataLoader(train_ds, batch_size = batch, shuffle = False, num_workers = 4)\n",
        "valid_dl = DataLoader(valid_ds, batch_size = batch, shuffle = False, num_workers = 4)"
      ],
      "execution_count": 127,
      "outputs": []
    },
    {
      "cell_type": "code",
      "metadata": {
        "id": "AC06GlOoQ3Au",
        "colab_type": "code",
        "colab": {
          "base_uri": "https://localhost:8080/",
          "height": 162
        },
        "outputId": "edbfdda3-4762-46bc-b5c5-1287d856a6d3"
      },
      "source": [
        "data = load_data(path, 'data')"
      ],
      "execution_count": 128,
      "outputs": [
        {
          "output_type": "error",
          "ename": "NameError",
          "evalue": "ignored",
          "traceback": [
            "\u001b[0;31m---------------------------------------------------------------------------\u001b[0m",
            "\u001b[0;31mNameError\u001b[0m                                 Traceback (most recent call last)",
            "\u001b[0;32m<ipython-input-128-f60a93dea86d>\u001b[0m in \u001b[0;36m<module>\u001b[0;34m()\u001b[0m\n\u001b[0;32m----> 1\u001b[0;31m \u001b[0mdata\u001b[0m \u001b[0;34m=\u001b[0m \u001b[0mload_data\u001b[0m\u001b[0;34m(\u001b[0m\u001b[0mpath\u001b[0m\u001b[0;34m,\u001b[0m \u001b[0;34m'data'\u001b[0m\u001b[0;34m)\u001b[0m\u001b[0;34m\u001b[0m\u001b[0;34m\u001b[0m\u001b[0m\n\u001b[0m",
            "\u001b[0;31mNameError\u001b[0m: name 'load_data' is not defined"
          ]
        }
      ]
    },
    {
      "cell_type": "code",
      "metadata": {
        "id": "AiVsqVb8vl-q",
        "colab_type": "code",
        "colab": {
          "base_uri": "https://localhost:8080/",
          "height": 269
        },
        "outputId": "3ebaa1cf-e735-4ca4-c3e8-4c2804e8cb48"
      },
      "source": [
        "for i, (x, y) in enumerate(valid_dl):\n",
        "  print(f\"batch number: {i}\", x.shape)\n",
        "  print(y.shape)\n",
        "  print('-' * 10)"
      ],
      "execution_count": 129,
      "outputs": [
        {
          "output_type": "stream",
          "text": [
            "batch number: 0 torch.Size([64, 1, 256, 256])\n",
            "torch.Size([64])\n",
            "----------\n",
            "batch number: 1 torch.Size([64, 1, 256, 256])\n",
            "torch.Size([64])\n",
            "----------\n",
            "batch number: 2 torch.Size([64, 1, 256, 256])\n",
            "torch.Size([64])\n",
            "----------\n",
            "batch number: 3 torch.Size([64, 1, 256, 256])\n",
            "torch.Size([64])\n",
            "----------\n",
            "batch number: 4 torch.Size([38, 1, 256, 256])\n",
            "torch.Size([38])\n",
            "----------\n"
          ],
          "name": "stdout"
        }
      ]
    },
    {
      "cell_type": "markdown",
      "metadata": {
        "id": "QFzKs6ymg6Aq",
        "colab_type": "text"
      },
      "source": [
        "# Data Visualisation"
      ]
    },
    {
      "cell_type": "code",
      "metadata": {
        "id": "gQbK0gX8RIkh",
        "colab_type": "code",
        "colab": {
          "base_uri": "https://localhost:8080/",
          "height": 279
        },
        "outputId": "71bd1662-193a-4b02-9598-84e3a184dd45"
      },
      "source": [
        "data.show_batch(rows=3, figsize=(7,8))"
      ],
      "execution_count": 130,
      "outputs": [
        {
          "output_type": "error",
          "ename": "TypeError",
          "evalue": "ignored",
          "traceback": [
            "\u001b[0;31m---------------------------------------------------------------------------\u001b[0m",
            "\u001b[0;31mTypeError\u001b[0m                                 Traceback (most recent call last)",
            "\u001b[0;32m<ipython-input-130-5e754e6c0691>\u001b[0m in \u001b[0;36m<module>\u001b[0;34m()\u001b[0m\n\u001b[0;32m----> 1\u001b[0;31m \u001b[0mdata\u001b[0m\u001b[0;34m.\u001b[0m\u001b[0mshow_batch\u001b[0m\u001b[0;34m(\u001b[0m\u001b[0mrows\u001b[0m\u001b[0;34m=\u001b[0m\u001b[0;36m3\u001b[0m\u001b[0;34m,\u001b[0m \u001b[0mfigsize\u001b[0m\u001b[0;34m=\u001b[0m\u001b[0;34m(\u001b[0m\u001b[0;36m7\u001b[0m\u001b[0;34m,\u001b[0m\u001b[0;36m8\u001b[0m\u001b[0;34m)\u001b[0m\u001b[0;34m)\u001b[0m\u001b[0;34m\u001b[0m\u001b[0;34m\u001b[0m\u001b[0m\n\u001b[0m",
            "\u001b[0;32m/usr/local/lib/python3.6/dist-packages/fastcore/dispatch.py\u001b[0m in \u001b[0;36m__call__\u001b[0;34m(self, *args, **kwargs)\u001b[0m\n\u001b[1;32m     97\u001b[0m         \u001b[0;32mif\u001b[0m \u001b[0;32mnot\u001b[0m \u001b[0mf\u001b[0m\u001b[0;34m:\u001b[0m \u001b[0;32mreturn\u001b[0m \u001b[0margs\u001b[0m\u001b[0;34m[\u001b[0m\u001b[0;36m0\u001b[0m\u001b[0;34m]\u001b[0m\u001b[0;34m\u001b[0m\u001b[0;34m\u001b[0m\u001b[0m\n\u001b[1;32m     98\u001b[0m         \u001b[0;32mif\u001b[0m \u001b[0mself\u001b[0m\u001b[0;34m.\u001b[0m\u001b[0minst\u001b[0m \u001b[0;32mis\u001b[0m \u001b[0;32mnot\u001b[0m \u001b[0;32mNone\u001b[0m\u001b[0;34m:\u001b[0m \u001b[0mf\u001b[0m \u001b[0;34m=\u001b[0m \u001b[0mMethodType\u001b[0m\u001b[0;34m(\u001b[0m\u001b[0mf\u001b[0m\u001b[0;34m,\u001b[0m \u001b[0mself\u001b[0m\u001b[0;34m.\u001b[0m\u001b[0minst\u001b[0m\u001b[0;34m)\u001b[0m\u001b[0;34m\u001b[0m\u001b[0;34m\u001b[0m\u001b[0m\n\u001b[0;32m---> 99\u001b[0;31m         \u001b[0;32mreturn\u001b[0m \u001b[0mf\u001b[0m\u001b[0;34m(\u001b[0m\u001b[0;34m*\u001b[0m\u001b[0margs\u001b[0m\u001b[0;34m,\u001b[0m \u001b[0;34m**\u001b[0m\u001b[0mkwargs\u001b[0m\u001b[0;34m)\u001b[0m\u001b[0;34m\u001b[0m\u001b[0;34m\u001b[0m\u001b[0m\n\u001b[0m\u001b[1;32m    100\u001b[0m \u001b[0;34m\u001b[0m\u001b[0m\n\u001b[1;32m    101\u001b[0m     \u001b[0;32mdef\u001b[0m \u001b[0m__get__\u001b[0m\u001b[0;34m(\u001b[0m\u001b[0mself\u001b[0m\u001b[0;34m,\u001b[0m \u001b[0minst\u001b[0m\u001b[0;34m,\u001b[0m \u001b[0mowner\u001b[0m\u001b[0;34m)\u001b[0m\u001b[0;34m:\u001b[0m\u001b[0;34m\u001b[0m\u001b[0;34m\u001b[0m\u001b[0m\n",
            "\u001b[0;31mTypeError\u001b[0m: show_batch() missing 3 required positional arguments: 'x', 'y', and 'samples'"
          ]
        }
      ]
    },
    {
      "cell_type": "markdown",
      "metadata": {
        "id": "iFDNbZV9hGRC",
        "colab_type": "text"
      },
      "source": [
        "# Learning Process"
      ]
    },
    {
      "cell_type": "code",
      "metadata": {
        "id": "l5HAZeyJTaFx",
        "colab_type": "code",
        "colab": {}
      },
      "source": [
        "def conv_layer(in_c, out_c, k, stride=1): return nn.Sequential(nn.Conv2d(in_c, out_c, k, stride, padding=1),\n",
        "                                          nn.ReLU(),\n",
        "                                          nn.BatchNorm2d(out_c))\n",
        "\n",
        "class res_block(nn.Module):\n",
        "   def __init__(self, c, k):\n",
        "     super().__init__()\n",
        "     self.conv1 = conv_layer(c, c, k)\n",
        "     self.conv2 = conv_layer(c, c, k)\n",
        "   def forward(self, x): \n",
        "     return x + self.conv2(self.conv1(x))\n",
        "\n",
        "class global_avpool(nn.Module):\n",
        "  def __init__(self):\n",
        "    super().__init__()\n",
        "  def forward(self, x): \n",
        "    num_dim = len(x.shape)\n",
        "    return x.mean([num_dim - 1, num_dim - 2])"
      ],
      "execution_count": 131,
      "outputs": []
    },
    {
      "cell_type": "code",
      "metadata": {
        "id": "Hdu3qrn6qkls",
        "colab_type": "code",
        "colab": {}
      },
      "source": [
        "manga_net = nn.Sequential(conv_layer(1, 64, 5, stride = 2),\n",
        "                          res_block(64, 3),\n",
        "                          nn.MaxPool2d(2),\n",
        "                          conv_layer(64, 128, 3, stride= 2),\n",
        "                          nn.MaxPool2d(2),\n",
        "                          res_block(128, 3),\n",
        "                          global_avpool(),\n",
        "                          nn.Linear(128, 4))"
      ],
      "execution_count": 132,
      "outputs": []
    },
    {
      "cell_type": "code",
      "metadata": {
        "id": "7Q6hLc6hffrs",
        "colab_type": "code",
        "colab": {}
      },
      "source": [
        "net = manga_net.cuda()"
      ],
      "execution_count": 133,
      "outputs": []
    },
    {
      "cell_type": "code",
      "metadata": {
        "id": "USOHlkAEoxkj",
        "colab_type": "code",
        "colab": {}
      },
      "source": [
        "lr = 1e-2\n",
        "EPOCH = 6\n",
        "i = 0\n",
        "momentum = 0.9"
      ],
      "execution_count": 140,
      "outputs": []
    },
    {
      "cell_type": "code",
      "metadata": {
        "id": "69c9v5UJabB3",
        "colab_type": "code",
        "colab": {}
      },
      "source": [
        "criterion = nn.CrossEntropyLoss()\n",
        "optimizer = optim.Adam(net.parameters(), lr=lr)"
      ],
      "execution_count": 148,
      "outputs": []
    },
    {
      "cell_type": "code",
      "metadata": {
        "id": "zdzSAUEAHoog",
        "colab_type": "code",
        "colab": {
          "base_uri": "https://localhost:8080/",
          "height": 538
        },
        "outputId": "8bd45992-6602-42dd-bd77-f707647f56c0"
      },
      "source": [
        "for epoch in range(EPOCH):  # loop over the dataset multiple times\n",
        "    net.train()\n",
        "    k = 0\n",
        "    running_loss_train = 0.0\n",
        "    for i, (inputs, labels) in enumerate(train_dl):\n",
        "        # get the inputs; data is a list of [inputs, labels]\n",
        "        inputs, labels = inputs.cuda(), labels.cuda() \n",
        "\n",
        "\n",
        "        # zero the parameter gradients\n",
        "        optimizer.zero_grad()\n",
        "\n",
        "        # forward + backward + optimize\n",
        "        outputs = net(inputs)\n",
        "        loss_train = criterion(outputs, labels)\n",
        "        loss_train.backward()\n",
        "        optimizer.step()\n",
        "\n",
        "        running_loss_train += loss_train.item()\n",
        "        k += 1\n",
        "    print(f'epoch:{epoch}\\t\\t training_loss: {running_loss_train/ k}')\n",
        "    \n",
        "    \n",
        "    net.eval()\n",
        "    k = 0     \n",
        "    running_loss_valid = 0\n",
        "    corr_cls = 0\n",
        "    for j, (inputs, labels)  in enumerate(valid_dl):\n",
        "        with torch.no_grad():\n",
        "          inputs, labels = inputs.cuda(), labels.cuda()\n",
        "          outputs = net(inputs)\n",
        "          loss_valid = criterion(outputs, labels) \n",
        "          # calculating evaluation stats\n",
        "          running_loss_valid += loss_valid.item()\n",
        "          k += 1\n",
        "          \n",
        "          _, preds = torch.max(F.softmax(outputs, 1), 1)\n",
        "          corr_cls += (preds == labels).sum().item()\n",
        "                \n",
        "    print(f'epoch:{epoch}\\t\\t validation_loss: {running_loss_valid/ k}')\n",
        "    print(f'epoch:{epoch}\\t\\t accuracy:{corr_cls * 100 /len(valid_ds)}')   \n",
        "    print('-' * 20)\n",
        "\n",
        "print('Finished Training')"
      ],
      "execution_count": 156,
      "outputs": [
        {
          "output_type": "stream",
          "text": [
            "epoch:0\t\t training_loss: 0.8244839938063371\n",
            "1176\n",
            "epoch:0\t\t validation_loss: 1.325731873512268\n",
            "epoch:0\t\t accuracy:55.10204081632653\n",
            "--------------------\n",
            "epoch:1\t\t training_loss: 0.8188377618789673\n",
            "1176\n",
            "epoch:1\t\t validation_loss: 1.2261343002319336\n",
            "epoch:1\t\t accuracy:58.50340136054422\n",
            "--------------------\n",
            "epoch:2\t\t training_loss: 0.8619492461806849\n",
            "1176\n",
            "epoch:2\t\t validation_loss: 1.1101964354515075\n",
            "epoch:2\t\t accuracy:61.564625850340136\n",
            "--------------------\n",
            "epoch:3\t\t training_loss: 0.8067999074333593\n",
            "1176\n",
            "epoch:3\t\t validation_loss: 1.0444918155670166\n",
            "epoch:3\t\t accuracy:62.244897959183675\n",
            "--------------------\n",
            "epoch:4\t\t training_loss: 0.7897348090222007\n",
            "1176\n",
            "epoch:4\t\t validation_loss: 1.2579915523529053\n",
            "epoch:4\t\t accuracy:56.12244897959184\n",
            "--------------------\n",
            "epoch:5\t\t training_loss: 0.7712549190772208\n",
            "1176\n",
            "epoch:5\t\t validation_loss: 1.3607955932617188\n",
            "epoch:5\t\t accuracy:55.78231292517007\n",
            "--------------------\n",
            "Finished Training\n"
          ],
          "name": "stdout"
        }
      ]
    },
    {
      "cell_type": "code",
      "metadata": {
        "id": "uJXyiu-B77U7",
        "colab_type": "code",
        "colab": {}
      },
      "source": [
        "PATH = '/content/drive/My Drive/Data/Mangaka Classification/models/stage1.pth'\n",
        "torch.save(net.state_dict(), PATH)"
      ],
      "execution_count": 43,
      "outputs": []
    },
    {
      "cell_type": "code",
      "metadata": {
        "id": "eoAJ2o9t79JZ",
        "colab_type": "code",
        "colab": {
          "base_uri": "https://localhost:8080/",
          "height": 34
        },
        "outputId": "5578ea79-5f87-4778-d9c4-72ab42f9b146"
      },
      "source": [
        "net.load_state_dict(torch.load(PATH))"
      ],
      "execution_count": 45,
      "outputs": [
        {
          "output_type": "execute_result",
          "data": {
            "text/plain": [
              "<All keys matched successfully>"
            ]
          },
          "metadata": {
            "tags": []
          },
          "execution_count": 45
        }
      ]
    },
    {
      "cell_type": "code",
      "metadata": {
        "id": "lD4Gn2Tk2W3L",
        "colab_type": "code",
        "colab": {}
      },
      "source": [
        "torch.cuda.empty_cache()"
      ],
      "execution_count": null,
      "outputs": []
    },
    {
      "cell_type": "markdown",
      "metadata": {
        "id": "TQvmYeI-ASg9",
        "colab_type": "text"
      },
      "source": [
        "# Transfer Learning"
      ]
    },
    {
      "cell_type": "code",
      "metadata": {
        "id": "fg5wPMKhPiUW",
        "colab_type": "code",
        "colab": {}
      },
      "source": [
        "device = torch.device(\"cuda:0\" if torch.cuda.is_available() else \"cpu\")"
      ],
      "execution_count": 159,
      "outputs": []
    },
    {
      "cell_type": "code",
      "metadata": {
        "id": "ae9nhN2_ARKC",
        "colab_type": "code",
        "colab": {}
      },
      "source": [
        "def train_model(model, criterion, optimizer, scheduler, num_epochs=25):\n",
        "    since = time.time()\n",
        "\n",
        "    best_model_wts = copy.deepcopy(model.state_dict())\n",
        "    best_acc = 0.0\n",
        "\n",
        "    for epoch in range(num_epochs):\n",
        "        print('Epoch {}/{}'.format(epoch, num_epochs - 1))\n",
        "        print('-' * 10)\n",
        "\n",
        "        # Each epoch has a training and validation phase\n",
        "        for phase in ['train', 'val']:\n",
        "            if phase == 'train':\n",
        "                model.train()  # Set model to training mode\n",
        "                dataloaders = train_dl\n",
        "            else:\n",
        "                model.eval()   # Set model to evaluate mode\n",
        "                dataloaders = valid_dl\n",
        "\n",
        "            running_loss = 0.0\n",
        "            running_corrects = 0\n",
        "\n",
        "            # Iterate over data.\n",
        "            for inputs, labels in dataloaders:\n",
        "                inputs = inputs.to(device)\n",
        "                labels = labels.to(device)\n",
        "\n",
        "                # zero the parameter gradients\n",
        "                optimizer.zero_grad()\n",
        "\n",
        "                # forward\n",
        "                # track history if only in train\n",
        "                with torch.set_grad_enabled(phase == 'train'):\n",
        "                    outputs = model(inputs)\n",
        "                    _, preds = torch.max(outputs, 1)\n",
        "                    loss = criterion(outputs, labels)\n",
        "\n",
        "                    # backward + optimize only if in training phase\n",
        "                    if phase == 'train':\n",
        "                        loss.backward()\n",
        "                        optimizer.step()\n",
        "\n",
        "                # statistics\n",
        "                running_loss += loss.item() * inputs.size(0)\n",
        "                running_corrects += torch.sum(preds == labels.data)\n",
        "            if phase == 'train':\n",
        "                scheduler.step()\n",
        "\n",
        "            if phase == 'train':\n",
        "                epoch_loss = running_loss / len(train_ds) \n",
        "                epoch_acc = running_corrects.double() / len(train_ds)\n",
        "            else:\n",
        "                epoch_loss = running_loss / len(valid_ds) \n",
        "                epoch_acc = running_corrects.double() / len(valid_ds)\n",
        "\n",
        "            print('{} Loss: {:.4f} Acc: {:.4f}'.format(\n",
        "                phase, epoch_loss, epoch_acc))\n",
        "\n",
        "            # deep copy the model\n",
        "            if phase == 'val' and epoch_acc > best_acc:\n",
        "                best_acc = epoch_acc\n",
        "                best_model_wts = copy.deepcopy(model.state_dict())\n",
        "\n",
        "        print()\n",
        "\n",
        "    time_elapsed = time.time() - since\n",
        "    print('Training complete in {:.0f}m {:.0f}s'.format(\n",
        "        time_elapsed // 60, time_elapsed % 60))\n",
        "    print('Best val Acc: {:4f}'.format(best_acc))\n",
        "\n",
        "    # load best model weights\n",
        "    model.load_state_dict(best_model_wts)\n",
        "    return model"
      ],
      "execution_count": 162,
      "outputs": []
    },
    {
      "cell_type": "code",
      "metadata": {
        "id": "rhrMAJnj53Zq",
        "colab_type": "code",
        "colab": {
          "base_uri": "https://localhost:8080/",
          "height": 470
        },
        "outputId": "c28e6982-1c2c-4c72-8bcf-9473bb251970"
      },
      "source": [
        "exp_lr_scheduler = lr_scheduler.StepLR(optimizer, step_size=7, gamma=0.1)\n",
        "\n",
        "train_model(net, criterion, optimizer, exp_lr_scheduler, num_epochs=5);"
      ],
      "execution_count": 165,
      "outputs": [
        {
          "output_type": "stream",
          "text": [
            "Epoch 0/4\n",
            "----------\n",
            "train Loss: 0.6752 Acc: 0.7355\n",
            "val Loss: 0.7212 Acc: 0.7517\n",
            "\n",
            "Epoch 1/4\n",
            "----------\n",
            "train Loss: 0.6462 Acc: 0.7330\n",
            "val Loss: 1.0476 Acc: 0.6497\n",
            "\n",
            "Epoch 2/4\n",
            "----------\n",
            "train Loss: 0.6525 Acc: 0.7355\n",
            "val Loss: 0.7227 Acc: 0.7517\n",
            "\n",
            "Epoch 3/4\n",
            "----------\n",
            "train Loss: 0.6613 Acc: 0.7500\n",
            "val Loss: 1.1662 Acc: 0.5714\n",
            "\n",
            "Epoch 4/4\n",
            "----------\n",
            "train Loss: 0.6527 Acc: 0.7313\n",
            "val Loss: 1.0157 Acc: 0.6429\n",
            "\n",
            "Training complete in 0m 25s\n",
            "Best val Acc: 0.751701\n"
          ],
          "name": "stdout"
        }
      ]
    },
    {
      "cell_type": "code",
      "metadata": {
        "id": "0FBE1HfDMII0",
        "colab_type": "code",
        "colab": {}
      },
      "source": [
        ""
      ],
      "execution_count": null,
      "outputs": []
    }
  ]
}